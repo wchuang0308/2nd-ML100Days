{
 "cells": [
  {
   "cell_type": "markdown",
   "metadata": {},
   "source": [
    "## [作業重點]\n",
    "確保你了解隨機森林模型中每個超參數的意義，並觀察調整超參數對結果的影響"
   ]
  },
  {
   "cell_type": "markdown",
   "metadata": {},
   "source": [
    "## 作業\n",
    "\n",
    "1. 試著調整 RandomForestClassifier(...) 中的參數，並觀察是否會改變結果？\n",
    "2. 改用其他資料集 (boston, wine)，並與回歸模型與決策樹的結果進行比較"
   ]
  },
  {
   "cell_type": "code",
   "execution_count": 1,
   "metadata": {},
   "outputs": [],
   "source": [
    "from sklearn import datasets, metrics\n",
    "from sklearn.ensemble import RandomForestClassifier, RandomForestRegressor\n",
    "from sklearn.model_selection import train_test_split"
   ]
  },
  {
   "cell_type": "code",
   "execution_count": 2,
   "metadata": {},
   "outputs": [],
   "source": [
    "# 讀取鳶尾花資料集\n",
    "iris = datasets.load_iris()\n",
    "\n",
    "# 切分訓練集/測試集\n",
    "x_train, x_test, y_train, y_test = train_test_split(iris.data, iris.target, test_size=0.25, random_state=4)\n",
    "\n",
    "# 建立模型 (使用 20 顆樹，每棵樹的最大深度為 4)\n",
    "clf = RandomForestClassifier(n_estimators=3, max_depth=4, min_samples_split = 10, min_samples_leaf = 1)\n",
    "\n",
    "# 訓練模型\n",
    "clf.fit(x_train, y_train)\n",
    "\n",
    "# 預測測試集\n",
    "y_pred = clf.predict(x_test)"
   ]
  },
  {
   "cell_type": "code",
   "execution_count": 3,
   "metadata": {},
   "outputs": [
    {
     "name": "stdout",
     "output_type": "stream",
     "text": [
      "Accuracy:  0.9473684210526315\n",
      "['sepal length (cm)', 'sepal width (cm)', 'petal length (cm)', 'petal width (cm)']\n",
      "Feature importance:  [0.09758004 0.         0.32602757 0.57639239]\n"
     ]
    }
   ],
   "source": [
    "acc = metrics.accuracy_score(y_test, y_pred)\n",
    "print(\"Accuracy: \", acc)\n",
    "print(iris.feature_names)\n",
    "print(\"Feature importance: \", clf.feature_importances_)"
   ]
  },
  {
   "cell_type": "code",
   "execution_count": 4,
   "metadata": {},
   "outputs": [
    {
     "name": "stdout",
     "output_type": "stream",
     "text": [
      "Accuracy:  17.4173460843728\n",
      "['CRIM' 'ZN' 'INDUS' 'CHAS' 'NOX' 'RM' 'AGE' 'DIS' 'RAD' 'TAX' 'PTRATIO'\n",
      " 'B' 'LSTAT']\n",
      "Feature importance:  [5.37870796e-02 0.00000000e+00 5.81007900e-04 2.31414903e-03\n",
      " 2.16665684e-02 5.22689095e-01 4.42242993e-03 4.08438363e-02\n",
      " 2.80569425e-04 6.08398887e-03 1.31094336e-02 3.87484718e-03\n",
      " 3.30346995e-01]\n"
     ]
    }
   ],
   "source": [
    "# 讀取 Boston 資料集\n",
    "boston = datasets.load_boston()\n",
    "\n",
    "# 切分訓練集/測試集\n",
    "x_train, x_test, y_train, y_test = train_test_split(boston.data, boston.target, test_size=0.25, random_state=4)\n",
    "\n",
    "# 建立模型 (使用 20 顆樹，每棵樹的最大深度為 4)\n",
    "clf = RandomForestRegressor(n_estimators=20, max_depth=4, min_samples_split = 10, min_samples_leaf = 1)\n",
    "\n",
    "# 訓練模型\n",
    "clf.fit(x_train, y_train)\n",
    "\n",
    "# 預測測試集\n",
    "y_pred = clf.predict(x_test)\n",
    "\n",
    "MSE = metrics.mean_squared_error(y_test, y_pred)\n",
    "print(\"Accuracy: \", MSE)\n",
    "print(boston.feature_names)\n",
    "print(\"Feature importance: \", clf.feature_importances_)"
   ]
  },
  {
   "cell_type": "code",
   "execution_count": 5,
   "metadata": {},
   "outputs": [
    {
     "name": "stdout",
     "output_type": "stream",
     "text": [
      "Accuracy:  27.12170457405595\n",
      "['CRIM' 'ZN' 'INDUS' 'CHAS' 'NOX' 'RM' 'AGE' 'DIS' 'RAD' 'TAX' 'PTRATIO'\n",
      " 'B' 'LSTAT']\n",
      "Feature  coefficient:  [-1.17215947e-01  5.08102386e-02 -2.45779479e-02  3.41258985e+00\n",
      " -1.20166137e+01  3.39011821e+00 -8.40509509e-03 -1.43935987e+00\n",
      "  3.27497022e-01 -1.53439646e-02 -8.36467819e-01  8.96013505e-03\n",
      " -4.99069958e-01]\n"
     ]
    }
   ],
   "source": [
    "from sklearn.linear_model import Lasso, Ridge\n",
    "clf = Lasso(alpha = 0.01)\n",
    "clf.fit(x_train, y_train)\n",
    "y_pred = clf.predict(x_test)\n",
    "MSE = metrics.mean_squared_error(y_test, y_pred)\n",
    "print(\"Accuracy: \", MSE)\n",
    "print(boston.feature_names)\n",
    "print(\"Feature  coefficient: \", clf.coef_)\n"
   ]
  },
  {
   "cell_type": "code",
   "execution_count": 6,
   "metadata": {},
   "outputs": [
    {
     "name": "stdout",
     "output_type": "stream",
     "text": [
      "Accuracy:  26.958552564579875\n",
      "['CRIM' 'ZN' 'INDUS' 'CHAS' 'NOX' 'RM' 'AGE' 'DIS' 'RAD' 'TAX' 'PTRATIO'\n",
      " 'B' 'LSTAT']\n",
      "Feature  coefficient:  [-1.18840941e-01  5.05790130e-02 -1.13382850e-02  3.65771770e+00\n",
      " -1.51679654e+01  3.39369476e+00 -6.02723843e-03 -1.49050082e+00\n",
      "  3.33424039e-01 -1.50683069e-02 -8.68173157e-01  8.81158354e-03\n",
      " -4.92932924e-01]\n"
     ]
    }
   ],
   "source": [
    "clf = Ridge(alpha = 0.01)\n",
    "clf.fit(x_train, y_train)\n",
    "y_pred = clf.predict(x_test)\n",
    "MSE = metrics.mean_squared_error(y_test, y_pred)\n",
    "print(\"Accuracy: \", MSE)\n",
    "print(boston.feature_names)\n",
    "print(\"Feature  coefficient: \", clf.coef_)"
   ]
  },
  {
   "cell_type": "code",
   "execution_count": 7,
   "metadata": {},
   "outputs": [
    {
     "name": "stdout",
     "output_type": "stream",
     "text": [
      "Accuracy:  0.02774274908317237\n",
      "['alcohol', 'malic_acid', 'ash', 'alcalinity_of_ash', 'magnesium', 'total_phenols', 'flavanoids', 'nonflavanoid_phenols', 'proanthocyanins', 'color_intensity', 'hue', 'od280/od315_of_diluted_wines', 'proline']\n",
      "Feature importance:  [0.03197133 0.00235271 0.00226123 0.00869413 0.00468543 0.00066063\n",
      " 0.33588149 0.         0.00362101 0.10661464 0.01885158 0.16636746\n",
      " 0.31803836]\n"
     ]
    }
   ],
   "source": [
    "# 讀取 Boston 資料集\n",
    "wine = datasets.load_wine()\n",
    "\n",
    "# 切分訓練集/測試集\n",
    "x_train, x_test, y_train, y_test = train_test_split(wine.data, wine.target, test_size=0.25, random_state=4)\n",
    "\n",
    "# 建立模型 (使用 20 顆樹，每棵樹的最大深度為 4)\n",
    "clf = RandomForestRegressor(n_estimators=20, max_depth=8, min_samples_split = 6, min_samples_leaf = 1, random_state=4)\n",
    "\n",
    "# 訓練模型\n",
    "clf.fit(x_train, y_train)\n",
    "\n",
    "# 預測測試集\n",
    "y_pred = clf.predict(x_test)\n",
    "\n",
    "MSE = metrics.mean_squared_error(y_test, y_pred)\n",
    "print(\"Accuracy: \", MSE)\n",
    "print(wine.feature_names)\n",
    "print(\"Feature importance: \", clf.feature_importances_)"
   ]
  },
  {
   "cell_type": "code",
   "execution_count": 8,
   "metadata": {},
   "outputs": [
    {
     "name": "stdout",
     "output_type": "stream",
     "text": [
      "Accuracy:  0.07070997302557412\n",
      "['alcohol', 'malic_acid', 'ash', 'alcalinity_of_ash', 'magnesium', 'total_phenols', 'flavanoids', 'nonflavanoid_phenols', 'proanthocyanins', 'color_intensity', 'hue', 'od280/od315_of_diluted_wines', 'proline']\n",
      "Feature  coefficient:  [-0.0656757   0.0088915  -0.03501745  0.03458064  0.00032287  0.\n",
      " -0.27015419 -0.          0.          0.08381382 -0.         -0.2400435\n",
      " -0.00092652]\n"
     ]
    }
   ],
   "source": [
    "clf = Lasso(alpha = 0.01)\n",
    "clf.fit(x_train, y_train)\n",
    "y_pred = clf.predict(x_test)\n",
    "MSE = metrics.mean_squared_error(y_test, y_pred)\n",
    "print(\"Accuracy: \", MSE)\n",
    "print(wine.feature_names)\n",
    "print(\"Feature  coefficient: \", clf.coef_)"
   ]
  },
  {
   "cell_type": "code",
   "execution_count": 9,
   "metadata": {},
   "outputs": [
    {
     "name": "stdout",
     "output_type": "stream",
     "text": [
      "Accuracy:  0.06513486431070271\n",
      "['CRIM' 'ZN' 'INDUS' 'CHAS' 'NOX' 'RM' 'AGE' 'DIS' 'RAD' 'TAX' 'PTRATIO'\n",
      " 'B' 'LSTAT']\n",
      "Feature  coefficient:  [-0.10136404  0.00891734 -0.22023502  0.04529088  0.00048073  0.13451181\n",
      " -0.32572919 -0.15009806  0.03342304  0.07704404 -0.15905572 -0.28860507\n",
      " -0.00079038]\n"
     ]
    }
   ],
   "source": [
    "clf = Ridge(alpha = 0.01)\n",
    "clf.fit(x_train, y_train)\n",
    "y_pred = clf.predict(x_test)\n",
    "MSE = metrics.mean_squared_error(y_test, y_pred)\n",
    "print(\"Accuracy: \", MSE)\n",
    "print(boston.feature_names)\n",
    "print(\"Feature  coefficient: \", clf.coef_)"
   ]
  },
  {
   "cell_type": "code",
   "execution_count": null,
   "metadata": {},
   "outputs": [],
   "source": []
  }
 ],
 "metadata": {
  "kernelspec": {
   "display_name": "Python 3",
   "language": "python",
   "name": "python3"
  },
  "language_info": {
   "codemirror_mode": {
    "name": "ipython",
    "version": 3
   },
   "file_extension": ".py",
   "mimetype": "text/x-python",
   "name": "python",
   "nbconvert_exporter": "python",
   "pygments_lexer": "ipython3",
   "version": "3.7.1"
  }
 },
 "nbformat": 4,
 "nbformat_minor": 2
}
