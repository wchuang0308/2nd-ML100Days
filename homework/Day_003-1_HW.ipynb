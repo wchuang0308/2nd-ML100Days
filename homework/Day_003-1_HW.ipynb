{
 "cells": [
  {
   "cell_type": "markdown",
   "metadata": {},
   "source": [
    "## 練習時間\n",
    "在小量的資料上，我們用眼睛就可以看得出來程式碼是否有跑出我們理想中的結果\n",
    "\n",
    "請嘗試想像一個你需要的資料結構 (裡面的值可以是隨機的)，然後用上述的方法把它變成 pandas DataFrame\n",
    "\n",
    "#### Ex: 想像一個 dataframe 有兩個欄位，一個是國家，一個是人口，求人口數最多的國家\n",
    "\n",
    "### Hints: [隨機產生數值](https://blog.csdn.net/christianashannon/article/details/78867204)"
   ]
  },
  {
   "cell_type": "code",
   "execution_count": 16,
   "metadata": {},
   "outputs": [],
   "source": [
    "import pandas as pd\n",
    "import numpy as np"
   ]
  },
  {
   "cell_type": "code",
   "execution_count": 65,
   "metadata": {},
   "outputs": [
    {
     "name": "stdout",
     "output_type": "stream",
     "text": [
      "         國家            人口\n",
      "0  Nation_1  1.876119e+05\n",
      "1  Nation_2  2.495793e+04\n",
      "2  Nation_3  1.863726e+05\n",
      "3  Nation_4  3.846467e+05\n",
      "4  Nation_5  2.328006e+06\n",
      "人口最多的國家是 Nation_5 人口總數為 2328006.288407533\n"
     ]
    }
   ],
   "source": [
    "country = ['Nation_1', 'Nation_2', 'Nation_3', 'Nation_4', 'Nation_5']\n",
    "population=abs(np.random.randn(5))*1000000\n",
    "data = {'國家': country, '人口': population}\n",
    "##print (\"country=\", country, 'population=', population)\n",
    "data=pd.DataFrame(data)\n",
    "print(data)\n",
    "max_population=data['人口'].max()\n",
    "idx=data['人口'].idxmax()\n",
    "print ('人口最多的國家是', data['國家'][idx], '人口總數為', max_population)"
   ]
  },
  {
   "cell_type": "code",
   "execution_count": 64,
   "metadata": {},
   "outputs": [
    {
     "data": {
      "text/plain": [
       "Index(['國家', '人口'], dtype='object')"
      ]
     },
     "execution_count": 64,
     "metadata": {},
     "output_type": "execute_result"
    }
   ],
   "source": [
    "data.columns"
   ]
  },
  {
   "cell_type": "code",
   "execution_count": null,
   "metadata": {},
   "outputs": [],
   "source": []
  }
 ],
 "metadata": {
  "kernelspec": {
   "display_name": "Python 3",
   "language": "python",
   "name": "python3"
  },
  "language_info": {
   "codemirror_mode": {
    "name": "ipython",
    "version": 3
   },
   "file_extension": ".py",
   "mimetype": "text/x-python",
   "name": "python",
   "nbconvert_exporter": "python",
   "pygments_lexer": "ipython3",
   "version": "3.7.1"
  }
 },
 "nbformat": 4,
 "nbformat_minor": 2
}
